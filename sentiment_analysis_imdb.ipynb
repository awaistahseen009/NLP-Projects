{
  "metadata": {
    "kernelspec": {
      "display_name": "Python 3",
      "name": "python3"
    },
    "language_info": {
      "name": "python",
      "version": "3.10.12",
      "mimetype": "text/x-python",
      "codemirror_mode": {
        "name": "ipython",
        "version": 3
      },
      "pygments_lexer": "ipython3",
      "nbconvert_exporter": "python",
      "file_extension": ".py"
    },
    "colab": {
      "provenance": [],
      "gpuType": "T4"
    },
    "accelerator": "GPU"
  },
  "nbformat_minor": 0,
  "nbformat": 4,
  "cells": [
    {
      "cell_type": "markdown",
      "source": [
        "## Importing necessary libraries"
      ],
      "metadata": {
        "id": "Lic0dhSA9dg1"
      }
    },
    {
      "cell_type": "code",
      "source": [
        "import pandas as pd\n",
        "import numpy as np\n",
        "import matplotlib.pyplot as plt\n",
        "import nltk\n",
        "nltk.download('punkt')\n",
        "from nltk.stem import PorterStemmer\n",
        "nltk.download('stopwords')\n",
        "from nltk.corpus import stopwords\n",
        "from nltk.tokenize import TreebankWordTokenizer\n",
        "import string"
      ],
      "metadata": {
        "execution": {
          "iopub.status.busy": "2023-07-25T14:56:57.763335Z",
          "iopub.execute_input": "2023-07-25T14:56:57.763769Z",
          "iopub.status.idle": "2023-07-25T14:57:19.675623Z",
          "shell.execute_reply.started": "2023-07-25T14:56:57.763737Z",
          "shell.execute_reply": "2023-07-25T14:57:19.674453Z"
        },
        "trusted": true,
        "colab": {
          "base_uri": "https://localhost:8080/"
        },
        "id": "gYactoSCmBWM",
        "outputId": "4d527f9f-631d-45c2-ff76-fd2c2e54fe19"
      },
      "execution_count": 15,
      "outputs": [
        {
          "output_type": "stream",
          "name": "stderr",
          "text": [
            "[nltk_data] Downloading package punkt to /root/nltk_data...\n",
            "[nltk_data]   Package punkt is already up-to-date!\n",
            "[nltk_data] Downloading package stopwords to /root/nltk_data...\n",
            "[nltk_data]   Unzipping corpora/stopwords.zip.\n"
          ]
        }
      ]
    },
    {
      "cell_type": "markdown",
      "source": [
        "## Data is stored in Google drive but original source is as under:\n",
        "### source: https://www.kaggle.com/datasets/yasserh/imdb-movie-ratings-sentiment-analysis"
      ],
      "metadata": {
        "id": "vDbJQhB49Jkc"
      }
    },
    {
      "cell_type": "code",
      "source": [
        "df=pd.read_csv('/content/drive/MyDrive/data/movie.csv')"
      ],
      "metadata": {
        "execution": {
          "iopub.status.busy": "2023-07-25T14:57:19.677794Z",
          "iopub.execute_input": "2023-07-25T14:57:19.678485Z",
          "iopub.status.idle": "2023-07-25T14:57:20.914784Z",
          "shell.execute_reply.started": "2023-07-25T14:57:19.678441Z",
          "shell.execute_reply": "2023-07-25T14:57:20.913566Z"
        },
        "trusted": true,
        "id": "di3zdpkWmBWW"
      },
      "execution_count": 3,
      "outputs": []
    },
    {
      "cell_type": "code",
      "source": [
        "df.head()"
      ],
      "metadata": {
        "execution": {
          "iopub.status.busy": "2023-07-25T14:57:20.916192Z",
          "iopub.execute_input": "2023-07-25T14:57:20.916955Z",
          "iopub.status.idle": "2023-07-25T14:57:20.937340Z",
          "shell.execute_reply.started": "2023-07-25T14:57:20.916919Z",
          "shell.execute_reply": "2023-07-25T14:57:20.936068Z"
        },
        "trusted": true,
        "colab": {
          "base_uri": "https://localhost:8080/",
          "height": 206
        },
        "id": "okmVA0LdmBWY",
        "outputId": "0d54ab97-0de3-47be-b29b-deaa00730455"
      },
      "execution_count": 4,
      "outputs": [
        {
          "output_type": "execute_result",
          "data": {
            "text/plain": [
              "                                                text  label\n",
              "0  I grew up (b. 1965) watching and loving the Th...      0\n",
              "1  When I put this movie in my DVD player, and sa...      0\n",
              "2  Why do people who do not know what a particula...      0\n",
              "3  Even though I have great interest in Biblical ...      0\n",
              "4  Im a die hard Dads Army fan and nothing will e...      1"
            ],
            "text/html": [
              "\n",
              "\n",
              "  <div id=\"df-b63ee3b5-c7a2-45ae-81bd-f33ebfed7f89\">\n",
              "    <div class=\"colab-df-container\">\n",
              "      <div>\n",
              "<style scoped>\n",
              "    .dataframe tbody tr th:only-of-type {\n",
              "        vertical-align: middle;\n",
              "    }\n",
              "\n",
              "    .dataframe tbody tr th {\n",
              "        vertical-align: top;\n",
              "    }\n",
              "\n",
              "    .dataframe thead th {\n",
              "        text-align: right;\n",
              "    }\n",
              "</style>\n",
              "<table border=\"1\" class=\"dataframe\">\n",
              "  <thead>\n",
              "    <tr style=\"text-align: right;\">\n",
              "      <th></th>\n",
              "      <th>text</th>\n",
              "      <th>label</th>\n",
              "    </tr>\n",
              "  </thead>\n",
              "  <tbody>\n",
              "    <tr>\n",
              "      <th>0</th>\n",
              "      <td>I grew up (b. 1965) watching and loving the Th...</td>\n",
              "      <td>0</td>\n",
              "    </tr>\n",
              "    <tr>\n",
              "      <th>1</th>\n",
              "      <td>When I put this movie in my DVD player, and sa...</td>\n",
              "      <td>0</td>\n",
              "    </tr>\n",
              "    <tr>\n",
              "      <th>2</th>\n",
              "      <td>Why do people who do not know what a particula...</td>\n",
              "      <td>0</td>\n",
              "    </tr>\n",
              "    <tr>\n",
              "      <th>3</th>\n",
              "      <td>Even though I have great interest in Biblical ...</td>\n",
              "      <td>0</td>\n",
              "    </tr>\n",
              "    <tr>\n",
              "      <th>4</th>\n",
              "      <td>Im a die hard Dads Army fan and nothing will e...</td>\n",
              "      <td>1</td>\n",
              "    </tr>\n",
              "  </tbody>\n",
              "</table>\n",
              "</div>\n",
              "      <button class=\"colab-df-convert\" onclick=\"convertToInteractive('df-b63ee3b5-c7a2-45ae-81bd-f33ebfed7f89')\"\n",
              "              title=\"Convert this dataframe to an interactive table.\"\n",
              "              style=\"display:none;\">\n",
              "\n",
              "  <svg xmlns=\"http://www.w3.org/2000/svg\" height=\"24px\"viewBox=\"0 0 24 24\"\n",
              "       width=\"24px\">\n",
              "    <path d=\"M0 0h24v24H0V0z\" fill=\"none\"/>\n",
              "    <path d=\"M18.56 5.44l.94 2.06.94-2.06 2.06-.94-2.06-.94-.94-2.06-.94 2.06-2.06.94zm-11 1L8.5 8.5l.94-2.06 2.06-.94-2.06-.94L8.5 2.5l-.94 2.06-2.06.94zm10 10l.94 2.06.94-2.06 2.06-.94-2.06-.94-.94-2.06-.94 2.06-2.06.94z\"/><path d=\"M17.41 7.96l-1.37-1.37c-.4-.4-.92-.59-1.43-.59-.52 0-1.04.2-1.43.59L10.3 9.45l-7.72 7.72c-.78.78-.78 2.05 0 2.83L4 21.41c.39.39.9.59 1.41.59.51 0 1.02-.2 1.41-.59l7.78-7.78 2.81-2.81c.8-.78.8-2.07 0-2.86zM5.41 20L4 18.59l7.72-7.72 1.47 1.35L5.41 20z\"/>\n",
              "  </svg>\n",
              "      </button>\n",
              "\n",
              "\n",
              "\n",
              "    <div id=\"df-977c4387-2703-46e2-929c-a37a1058cc8a\">\n",
              "      <button class=\"colab-df-quickchart\" onclick=\"quickchart('df-977c4387-2703-46e2-929c-a37a1058cc8a')\"\n",
              "              title=\"Suggest charts.\"\n",
              "              style=\"display:none;\">\n",
              "\n",
              "<svg xmlns=\"http://www.w3.org/2000/svg\" height=\"24px\"viewBox=\"0 0 24 24\"\n",
              "     width=\"24px\">\n",
              "    <g>\n",
              "        <path d=\"M19 3H5c-1.1 0-2 .9-2 2v14c0 1.1.9 2 2 2h14c1.1 0 2-.9 2-2V5c0-1.1-.9-2-2-2zM9 17H7v-7h2v7zm4 0h-2V7h2v10zm4 0h-2v-4h2v4z\"/>\n",
              "    </g>\n",
              "</svg>\n",
              "      </button>\n",
              "    </div>\n",
              "\n",
              "<style>\n",
              "  .colab-df-quickchart {\n",
              "    background-color: #E8F0FE;\n",
              "    border: none;\n",
              "    border-radius: 50%;\n",
              "    cursor: pointer;\n",
              "    display: none;\n",
              "    fill: #1967D2;\n",
              "    height: 32px;\n",
              "    padding: 0 0 0 0;\n",
              "    width: 32px;\n",
              "  }\n",
              "\n",
              "  .colab-df-quickchart:hover {\n",
              "    background-color: #E2EBFA;\n",
              "    box-shadow: 0px 1px 2px rgba(60, 64, 67, 0.3), 0px 1px 3px 1px rgba(60, 64, 67, 0.15);\n",
              "    fill: #174EA6;\n",
              "  }\n",
              "\n",
              "  [theme=dark] .colab-df-quickchart {\n",
              "    background-color: #3B4455;\n",
              "    fill: #D2E3FC;\n",
              "  }\n",
              "\n",
              "  [theme=dark] .colab-df-quickchart:hover {\n",
              "    background-color: #434B5C;\n",
              "    box-shadow: 0px 1px 3px 1px rgba(0, 0, 0, 0.15);\n",
              "    filter: drop-shadow(0px 1px 2px rgba(0, 0, 0, 0.3));\n",
              "    fill: #FFFFFF;\n",
              "  }\n",
              "</style>\n",
              "\n",
              "    <script>\n",
              "      async function quickchart(key) {\n",
              "        const containerElement = document.querySelector('#' + key);\n",
              "        const charts = await google.colab.kernel.invokeFunction(\n",
              "            'suggestCharts', [key], {});\n",
              "      }\n",
              "    </script>\n",
              "\n",
              "      <script>\n",
              "\n",
              "function displayQuickchartButton(domScope) {\n",
              "  let quickchartButtonEl =\n",
              "    domScope.querySelector('#df-977c4387-2703-46e2-929c-a37a1058cc8a button.colab-df-quickchart');\n",
              "  quickchartButtonEl.style.display =\n",
              "    google.colab.kernel.accessAllowed ? 'block' : 'none';\n",
              "}\n",
              "\n",
              "        displayQuickchartButton(document);\n",
              "      </script>\n",
              "      <style>\n",
              "    .colab-df-container {\n",
              "      display:flex;\n",
              "      flex-wrap:wrap;\n",
              "      gap: 12px;\n",
              "    }\n",
              "\n",
              "    .colab-df-convert {\n",
              "      background-color: #E8F0FE;\n",
              "      border: none;\n",
              "      border-radius: 50%;\n",
              "      cursor: pointer;\n",
              "      display: none;\n",
              "      fill: #1967D2;\n",
              "      height: 32px;\n",
              "      padding: 0 0 0 0;\n",
              "      width: 32px;\n",
              "    }\n",
              "\n",
              "    .colab-df-convert:hover {\n",
              "      background-color: #E2EBFA;\n",
              "      box-shadow: 0px 1px 2px rgba(60, 64, 67, 0.3), 0px 1px 3px 1px rgba(60, 64, 67, 0.15);\n",
              "      fill: #174EA6;\n",
              "    }\n",
              "\n",
              "    [theme=dark] .colab-df-convert {\n",
              "      background-color: #3B4455;\n",
              "      fill: #D2E3FC;\n",
              "    }\n",
              "\n",
              "    [theme=dark] .colab-df-convert:hover {\n",
              "      background-color: #434B5C;\n",
              "      box-shadow: 0px 1px 3px 1px rgba(0, 0, 0, 0.15);\n",
              "      filter: drop-shadow(0px 1px 2px rgba(0, 0, 0, 0.3));\n",
              "      fill: #FFFFFF;\n",
              "    }\n",
              "  </style>\n",
              "\n",
              "      <script>\n",
              "        const buttonEl =\n",
              "          document.querySelector('#df-b63ee3b5-c7a2-45ae-81bd-f33ebfed7f89 button.colab-df-convert');\n",
              "        buttonEl.style.display =\n",
              "          google.colab.kernel.accessAllowed ? 'block' : 'none';\n",
              "\n",
              "        async function convertToInteractive(key) {\n",
              "          const element = document.querySelector('#df-b63ee3b5-c7a2-45ae-81bd-f33ebfed7f89');\n",
              "          const dataTable =\n",
              "            await google.colab.kernel.invokeFunction('convertToInteractive',\n",
              "                                                     [key], {});\n",
              "          if (!dataTable) return;\n",
              "\n",
              "          const docLinkHtml = 'Like what you see? Visit the ' +\n",
              "            '<a target=\"_blank\" href=https://colab.research.google.com/notebooks/data_table.ipynb>data table notebook</a>'\n",
              "            + ' to learn more about interactive tables.';\n",
              "          element.innerHTML = '';\n",
              "          dataTable['output_type'] = 'display_data';\n",
              "          await google.colab.output.renderOutput(dataTable, element);\n",
              "          const docLink = document.createElement('div');\n",
              "          docLink.innerHTML = docLinkHtml;\n",
              "          element.appendChild(docLink);\n",
              "        }\n",
              "      </script>\n",
              "    </div>\n",
              "  </div>\n"
            ]
          },
          "metadata": {},
          "execution_count": 4
        }
      ]
    },
    {
      "cell_type": "markdown",
      "source": [
        "## Lets see whether the dataset is balanced or not"
      ],
      "metadata": {
        "id": "dNf4N8QNmBWZ"
      }
    },
    {
      "cell_type": "code",
      "source": [
        "df['label'].value_counts()"
      ],
      "metadata": {
        "execution": {
          "iopub.status.busy": "2023-07-25T14:57:20.940632Z",
          "iopub.execute_input": "2023-07-25T14:57:20.941371Z",
          "iopub.status.idle": "2023-07-25T14:57:20.955045Z",
          "shell.execute_reply.started": "2023-07-25T14:57:20.941326Z",
          "shell.execute_reply": "2023-07-25T14:57:20.953918Z"
        },
        "trusted": true,
        "colab": {
          "base_uri": "https://localhost:8080/"
        },
        "id": "7a2X2Qx9mBWc",
        "outputId": "4889be1a-8acd-489a-add9-682988b0409c"
      },
      "execution_count": 5,
      "outputs": [
        {
          "output_type": "execute_result",
          "data": {
            "text/plain": [
              "0    20019\n",
              "1    19981\n",
              "Name: label, dtype: int64"
            ]
          },
          "metadata": {},
          "execution_count": 5
        }
      ]
    },
    {
      "cell_type": "code",
      "source": [
        "count_pos=df['label'].value_counts()[1]\n",
        "count_neg=df['label'].value_counts()[0]\n",
        "plt.pie([count_pos,count_neg],labels=['Label 1','Label 0'],autopct='%.0f%%')\n",
        "plt.show()"
      ],
      "metadata": {
        "execution": {
          "iopub.status.busy": "2023-07-25T14:57:20.956369Z",
          "iopub.execute_input": "2023-07-25T14:57:20.956787Z",
          "iopub.status.idle": "2023-07-25T14:57:21.149127Z",
          "shell.execute_reply.started": "2023-07-25T14:57:20.956746Z",
          "shell.execute_reply": "2023-07-25T14:57:21.147685Z"
        },
        "trusted": true,
        "colab": {
          "base_uri": "https://localhost:8080/",
          "height": 406
        },
        "id": "Z-Zfb5j8mBWe",
        "outputId": "05cf12bd-7ab8-4a86-a810-b359149e5a88"
      },
      "execution_count": 6,
      "outputs": [
        {
          "output_type": "display_data",
          "data": {
            "text/plain": [
              "<Figure size 640x480 with 1 Axes>"
            ],
            "image/png": "[encoded data removed]"
          },
          "metadata": {}
        }
      ]
    },
    {
      "cell_type": "markdown",
      "source": [
        "## Define the preprocess function"
      ],
      "metadata": {
        "id": "pcpWH0gPmBWg"
      }
    },
    {
      "cell_type": "code",
      "source": [
        "def process_text(review):\n",
        "    clean_rev=list()\n",
        "    stemmer=PorterStemmer()\n",
        "    tokenizer=TreebankWordTokenizer()\n",
        "    stopwords_english=stopwords.words('english')\n",
        "    punctuation=string.punctuation\n",
        "    token_words=tokenizer.tokenize(review)\n",
        "    for word in token_words:\n",
        "        if (word not in stopwords_english and word not in punctuation):\n",
        "            stem_word=stemmer.stem(word)\n",
        "            clean_rev.append(stem_word)\n",
        "    return clean_rev"
      ],
      "metadata": {
        "execution": {
          "iopub.status.busy": "2023-07-25T14:57:21.150885Z",
          "iopub.execute_input": "2023-07-25T14:57:21.151557Z",
          "iopub.status.idle": "2023-07-25T14:57:21.161397Z",
          "shell.execute_reply.started": "2023-07-25T14:57:21.151517Z",
          "shell.execute_reply": "2023-07-25T14:57:21.159890Z"
        },
        "trusted": true,
        "id": "CHg9Ol8jmBWi"
      },
      "execution_count": 7,
      "outputs": []
    },
    {
      "cell_type": "markdown",
      "source": [
        "## Defining the frequency calculator function"
      ],
      "metadata": {
        "id": "HZJM49Jz9jEf"
      }
    },
    {
      "cell_type": "code",
      "source": [
        "def freq_builder(reviews, y):\n",
        "    y = np.squeeze(y).tolist()\n",
        "    freq = {}\n",
        "    for label, review in zip(y, reviews):\n",
        "        for word in process_text(review):\n",
        "            pair = (word, label)\n",
        "            if pair in freq:\n",
        "                freq[pair] += 1\n",
        "            else:\n",
        "                freq[pair] = 1\n",
        "    return freq"
      ],
      "metadata": {
        "execution": {
          "iopub.status.busy": "2023-07-25T14:59:02.591869Z",
          "iopub.execute_input": "2023-07-25T14:59:02.592304Z",
          "iopub.status.idle": "2023-07-25T14:59:02.599766Z",
          "shell.execute_reply.started": "2023-07-25T14:59:02.592268Z",
          "shell.execute_reply": "2023-07-25T14:59:02.598362Z"
        },
        "trusted": true,
        "id": "wnBzHe_jmBWk"
      },
      "execution_count": 8,
      "outputs": []
    },
    {
      "cell_type": "markdown",
      "source": [
        "## Splitting the data"
      ],
      "metadata": {
        "id": "akPzq14YmBWn"
      }
    },
    {
      "cell_type": "code",
      "source": [
        "split_index = int(len(df) * 0.8)  # Calculate the index for the split\n",
        "# Split the DataFrame into training and testing sets\n",
        "train_df = df.iloc[:split_index]\n",
        "test_df = df.iloc[split_index:]"
      ],
      "metadata": {
        "execution": {
          "iopub.status.busy": "2023-07-25T14:57:21.195729Z",
          "iopub.execute_input": "2023-07-25T14:57:21.196227Z",
          "iopub.status.idle": "2023-07-25T14:57:21.203220Z",
          "shell.execute_reply.started": "2023-07-25T14:57:21.196182Z",
          "shell.execute_reply": "2023-07-25T14:57:21.202123Z"
        },
        "trusted": true,
        "id": "5uE8JIhmmBWo"
      },
      "execution_count": 9,
      "outputs": []
    },
    {
      "cell_type": "code",
      "source": [
        "train_df.shape,test_df.shape"
      ],
      "metadata": {
        "execution": {
          "iopub.status.busy": "2023-07-25T14:57:21.206132Z",
          "iopub.execute_input": "2023-07-25T14:57:21.206755Z",
          "iopub.status.idle": "2023-07-25T14:57:21.219497Z",
          "shell.execute_reply.started": "2023-07-25T14:57:21.206703Z",
          "shell.execute_reply": "2023-07-25T14:57:21.218370Z"
        },
        "trusted": true,
        "colab": {
          "base_uri": "https://localhost:8080/"
        },
        "id": "ElF28zpimBWq",
        "outputId": "27127094-f32c-4dc7-c98d-d25da540c5a8"
      },
      "execution_count": 10,
      "outputs": [
        {
          "output_type": "execute_result",
          "data": {
            "text/plain": [
              "((32000, 2), (8000, 2))"
            ]
          },
          "metadata": {},
          "execution_count": 10
        }
      ]
    },
    {
      "cell_type": "code",
      "source": [
        "'''\n",
        "Lets split it into the x, and y\n",
        "'''\n",
        "x_train=train_df.drop(['label'],axis=1)\n",
        "y_train=train_df['label']\n",
        "x_test=test_df.drop(['label'],axis=1)\n",
        "y_test=test_df['label']"
      ],
      "metadata": {
        "execution": {
          "iopub.status.busy": "2023-07-25T15:01:58.117940Z",
          "iopub.execute_input": "2023-07-25T15:01:58.118381Z",
          "iopub.status.idle": "2023-07-25T15:01:58.128859Z",
          "shell.execute_reply.started": "2023-07-25T15:01:58.118345Z",
          "shell.execute_reply": "2023-07-25T15:01:58.127621Z"
        },
        "trusted": true,
        "id": "jEw-mQVXmBWr"
      },
      "execution_count": 11,
      "outputs": []
    },
    {
      "cell_type": "markdown",
      "source": [
        "## Lets get the frequencies of word"
      ],
      "metadata": {
        "id": "dObFwnMJmBWs"
      }
    },
    {
      "cell_type": "markdown",
      "source": [],
      "metadata": {
        "id": "ttcjEjnsmBWt"
      }
    },
    {
      "cell_type": "code",
      "source": [
        "x_train.shape,y_train.shape"
      ],
      "metadata": {
        "execution": {
          "iopub.status.busy": "2023-07-25T14:57:21.244400Z",
          "iopub.execute_input": "2023-07-25T14:57:21.245477Z",
          "iopub.status.idle": "2023-07-25T14:57:21.258251Z",
          "shell.execute_reply.started": "2023-07-25T14:57:21.245432Z",
          "shell.execute_reply": "2023-07-25T14:57:21.257137Z"
        },
        "trusted": true,
        "colab": {
          "base_uri": "https://localhost:8080/"
        },
        "id": "ycwzt8UymBWu",
        "outputId": "3df1d137-500b-410c-e94e-b8989eb67298"
      },
      "execution_count": 12,
      "outputs": [
        {
          "output_type": "execute_result",
          "data": {
            "text/plain": [
              "((32000, 1), (32000,))"
            ]
          },
          "metadata": {},
          "execution_count": 12
        }
      ]
    },
    {
      "cell_type": "markdown",
      "source": [
        "## Converting x_train,x_test,y_train,y_test into numpy array , we could have done in the above step or we could just use train_test_split() method but I thought to make it simple"
      ],
      "metadata": {
        "id": "Vwa-4ND79qrn"
      }
    },
    {
      "cell_type": "code",
      "source": [
        "x_train=np.array(x_train['text'])\n",
        "y_train=np.array(y_train)\n",
        "x_test=np.array(x_test['text'])\n",
        "y_test=np.array(y_test)"
      ],
      "metadata": {
        "execution": {
          "iopub.status.busy": "2023-07-25T15:02:00.267702Z",
          "iopub.execute_input": "2023-07-25T15:02:00.268090Z",
          "iopub.status.idle": "2023-07-25T15:02:00.275839Z",
          "shell.execute_reply.started": "2023-07-25T15:02:00.268061Z",
          "shell.execute_reply": "2023-07-25T15:02:00.274691Z"
        },
        "trusted": true,
        "id": "wcZ6Aua9mBWw"
      },
      "execution_count": 13,
      "outputs": []
    },
    {
      "cell_type": "code",
      "source": [
        "freqs=freq_builder(x_train,y_train)"
      ],
      "metadata": {
        "execution": {
          "iopub.status.busy": "2023-07-25T15:06:26.066473Z",
          "iopub.execute_input": "2023-07-25T15:06:26.066888Z"
        },
        "trusted": true,
        "id": "hc7LAgo5mBWx"
      },
      "execution_count": 16,
      "outputs": []
    },
    {
      "cell_type": "code",
      "source": [
        "len(freqs)"
      ],
      "metadata": {
        "execution": {
          "iopub.status.busy": "2023-07-25T14:59:07.543562Z",
          "iopub.execute_input": "2023-07-25T14:59:07.543935Z",
          "iopub.status.idle": "2023-07-25T14:59:07.550831Z",
          "shell.execute_reply.started": "2023-07-25T14:59:07.543905Z",
          "shell.execute_reply": "2023-07-25T14:59:07.549795Z"
        },
        "trusted": true,
        "colab": {
          "base_uri": "https://localhost:8080/"
        },
        "id": "2nMheIL9mBWy",
        "outputId": "ef263d50-ca8e-4752-921a-9f7f15106182"
      },
      "execution_count": 17,
      "outputs": [
        {
          "output_type": "execute_result",
          "data": {
            "text/plain": [
              "160950"
            ]
          },
          "metadata": {},
          "execution_count": 17
        }
      ]
    },
    {
      "cell_type": "markdown",
      "source": [
        "## Now lets implement the Naive Bayes Algorithm"
      ],
      "metadata": {
        "id": "1fmTbXFMpoHj"
      }
    },
    {
      "cell_type": "code",
      "source": [
        "def check_freq(freq,word,y):\n",
        "  '''\n",
        "  This function return the frequency of the pair in the freq dictionary\n",
        "  '''\n",
        "  pair=(word,y)\n",
        "  if pair in freq:\n",
        "    return freq[pair]\n",
        "  else:\n",
        "    return 0"
      ],
      "metadata": {
        "id": "s2jSLt3Wua-5"
      },
      "execution_count": 63,
      "outputs": []
    },
    {
      "cell_type": "code",
      "source": [
        "def naive_bayes(freq,x_train,y_train):\n",
        "  lambda_log ={} # Also known as log liklihood\n",
        "  log_prior=0 # log(P(Dpos)/P(Dneg))\n",
        "  vocabulary=set([pair[0] for pair in freq])\n",
        "  len_vocab=len(vocabulary)\n",
        "  no_pos=0\n",
        "  no_neg=0\n",
        "  for pair in freq.keys():\n",
        "    if pair[1]>0:\n",
        "      no_pos+=freq[pair]\n",
        "    else:\n",
        "      no_neg+=freq[pair]\n",
        "  d=len(x_train)\n",
        "  d_pos=len([filter(lambda x : x>0,y_train)])\n",
        "  d_neg=len([filter(lambda x : x<=0,y_train)])\n",
        "  log_prior=np.log(d_pos)-np.log(d_neg) # used log property log(dpos/dneg) == log(dpos)-log(dneg)\n",
        "  for word in vocabulary:\n",
        "    pos_freq=check_freq(freq,word,1)\n",
        "    neg_freq=check_freq(freq,word,0)\n",
        "\n",
        "    '''\n",
        "    Calculating the probabilities with lapalace smoothing\n",
        "    '''\n",
        "    pos_prob=(pos_freq+1)/(no_pos+len_vocab)\n",
        "    neg_prob=(neg_freq+1)/(no_neg+len_vocab)\n",
        "\n",
        "    '''\n",
        "    Now lets update the liklihood(lambda) for each word\n",
        "    '''\n",
        "    lambda_log[word]=np.log(pos_prob)-np.log(neg_prob)\n",
        "  return log_prior,lambda_log"
      ],
      "metadata": {
        "id": "1ZFus__FmBW0"
      },
      "execution_count": 19,
      "outputs": []
    },
    {
      "cell_type": "code",
      "source": [
        "log_prior,lambda_log=naive_bayes(freqs,x_train,y_train)"
      ],
      "metadata": {
        "id": "hSm8RrL3wA4d"
      },
      "execution_count": 21,
      "outputs": []
    },
    {
      "cell_type": "code",
      "source": [
        "# log_prior,lambda_log # Its a long dict , you can print and see"
      ],
      "metadata": {
        "id": "qCl5WqJcwNmw"
      },
      "execution_count": null,
      "outputs": []
    },
    {
      "cell_type": "code",
      "source": [
        "def predict(text,lamda_log=lambda_log,log_prior=log_prior):\n",
        "  clean_text=process_text(text)\n",
        "  prob=0\n",
        "  prob+=log_prior # if we dont have any information about the logliklihood then its probability is log_prior\n",
        "  for word in clean_text:\n",
        "    if word in lambda_log: # means if word exist in liklihood keys\n",
        "      prob+=lambda_log[word]\n",
        "  if prob>0:\n",
        "    return True\n",
        "  else:\n",
        "    return False"
      ],
      "metadata": {
        "id": "fC0KoNYWwUUV"
      },
      "execution_count": 31,
      "outputs": []
    },
    {
      "cell_type": "markdown",
      "source": [
        "## Now Its the time to predict our own texts"
      ],
      "metadata": {
        "id": "U4xiPv13yEEO"
      }
    },
    {
      "cell_type": "code",
      "source": [
        "def accuracy(x_test,y_test,log_prior=log_prior,lambda_log=lambda_log):\n",
        "  accuracy=0 # in start the accuracy is 0\n",
        "  ypred=[]\n",
        "  for word in x_test:\n",
        "    if predict(word,lambda_log,log_prior):\n",
        "      ypred.append(1)\n",
        "    else:\n",
        "      ypred.append(0)\n",
        "  accuracy=1-np.mean(np.absolute(ypred-y_test))\n",
        "  return accuracy"
      ],
      "metadata": {
        "id": "eJbjlA6syXL3"
      },
      "execution_count": 56,
      "outputs": []
    },
    {
      "cell_type": "code",
      "source": [
        "print(accuracy(x_test,y_test,log_prior=log_prior,lambda_log=lambda_log))"
      ],
      "metadata": {
        "colab": {
          "base_uri": "https://localhost:8080/"
        },
        "id": "jlz2mFqQ5eZq",
        "outputId": "00ee4667-8504-48bf-cc2f-f38c131fe48d"
      },
      "execution_count": 57,
      "outputs": [
        {
          "output_type": "stream",
          "name": "stdout",
          "text": [
            "0.8538749999999999\n"
          ]
        }
      ]
    },
    {
      "cell_type": "code",
      "source": [
        "text='xyz 2 is a terrible movie , i hope they will make good movies in the future'\n",
        "if(predict(text)):\n",
        "  print('Sentiment is Positive')\n",
        "else:\n",
        "  print('Sentiment is Negative')"
      ],
      "metadata": {
        "colab": {
          "base_uri": "https://localhost:8080/"
        },
        "id": "pgZwoHWnxt9M",
        "outputId": "db29cad5-4f39-44b7-d2f0-ee46a8501d54"
      },
      "execution_count": 62,
      "outputs": [
        {
          "output_type": "stream",
          "name": "stdout",
          "text": [
            "Sentiment is Negative\n"
          ]
        }
      ]
    }
  ]
}